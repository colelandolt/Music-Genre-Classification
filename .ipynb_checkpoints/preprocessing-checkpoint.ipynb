{
 "cells": [
  {
   "cell_type": "markdown",
   "metadata": {},
   "source": [
    "# Genre Prediction - Preprocessing<a id='Preprocessing'></a>"
   ]
  },
  {
   "cell_type": "markdown",
   "metadata": {},
   "source": [
    "## Contents<a id='Contents'></a>\n",
    "* [Preprocessing](#Preprocessing)\n",
    "  * [Contents](#Contents)\n",
    "    * [Imports](#Imports)\n",
    "    * [Load Data](#LoadData)\n",
    "    * [Train/Test Split](#TrainTestSplit)"
   ]
  },
  {
   "cell_type": "markdown",
   "metadata": {},
   "source": [
    "### Imports<a id='Imports'></a>"
   ]
  },
  {
   "cell_type": "code",
   "execution_count": 1,
   "metadata": {},
   "outputs": [],
   "source": [
    "import os\n",
    "import math\n",
    "from datetime import datetime, timedelta, date\n",
    "import numpy as np\n",
    "import pandas as pd\n",
    "import matplotlib.pyplot as plt\n",
    "import seaborn as sns\n",
    "import scipy.stats as stats\n",
    "from sklearn.model_selection import train_test_split\n",
    "from sklearn import preprocessing"
   ]
  },
  {
   "cell_type": "markdown",
   "metadata": {},
   "source": [
    "### Load Data<a id='LoadData'></a>"
   ]
  },
  {
   "cell_type": "code",
   "execution_count": 2,
   "metadata": {},
   "outputs": [
    {
     "data": {
      "text/html": [
       "<div>\n",
       "<style scoped>\n",
       "    .dataframe tbody tr th:only-of-type {\n",
       "        vertical-align: middle;\n",
       "    }\n",
       "\n",
       "    .dataframe tbody tr th {\n",
       "        vertical-align: top;\n",
       "    }\n",
       "\n",
       "    .dataframe thead th {\n",
       "        text-align: right;\n",
       "    }\n",
       "</style>\n",
       "<table border=\"1\" class=\"dataframe\">\n",
       "  <thead>\n",
       "    <tr style=\"text-align: right;\">\n",
       "      <th></th>\n",
       "      <th>track_id</th>\n",
       "      <th>track</th>\n",
       "      <th>artist</th>\n",
       "      <th>album</th>\n",
       "      <th>release_date</th>\n",
       "      <th>subgenre</th>\n",
       "      <th>genre</th>\n",
       "      <th>duration_ms</th>\n",
       "      <th>popularity</th>\n",
       "      <th>danceability</th>\n",
       "      <th>...</th>\n",
       "      <th>speechiness</th>\n",
       "      <th>acousticness</th>\n",
       "      <th>instrumentalness</th>\n",
       "      <th>liveness</th>\n",
       "      <th>valence</th>\n",
       "      <th>tempo</th>\n",
       "      <th>mode</th>\n",
       "      <th>release_year</th>\n",
       "      <th>duration_min</th>\n",
       "      <th>duration_minsec</th>\n",
       "    </tr>\n",
       "  </thead>\n",
       "  <tbody>\n",
       "    <tr>\n",
       "      <th>0</th>\n",
       "      <td>27ycaQnQAxaPiyeg3nr2aB</td>\n",
       "      <td>Midnight Sky</td>\n",
       "      <td>Miley Cyrus</td>\n",
       "      <td>Midnight Sky</td>\n",
       "      <td>2020-01-01</td>\n",
       "      <td>pop</td>\n",
       "      <td>pop</td>\n",
       "      <td>223279</td>\n",
       "      <td>92</td>\n",
       "      <td>0.705</td>\n",
       "      <td>...</td>\n",
       "      <td>0.032309</td>\n",
       "      <td>0.00115</td>\n",
       "      <td>0.003120</td>\n",
       "      <td>0.203</td>\n",
       "      <td>0.2590</td>\n",
       "      <td>110.000</td>\n",
       "      <td>minor</td>\n",
       "      <td>2020</td>\n",
       "      <td>3.721317</td>\n",
       "      <td>3 m, 43 s</td>\n",
       "    </tr>\n",
       "    <tr>\n",
       "      <th>1</th>\n",
       "      <td>0prNGof3XqfTvNDxHonvdK</td>\n",
       "      <td>Scars To Your Beautiful</td>\n",
       "      <td>Alessia Cara</td>\n",
       "      <td>Know-It-All (Deluxe)</td>\n",
       "      <td>2015-01-01</td>\n",
       "      <td>pop</td>\n",
       "      <td>pop</td>\n",
       "      <td>230226</td>\n",
       "      <td>73</td>\n",
       "      <td>0.573</td>\n",
       "      <td>...</td>\n",
       "      <td>0.282309</td>\n",
       "      <td>0.02850</td>\n",
       "      <td>0.000000</td>\n",
       "      <td>0.111</td>\n",
       "      <td>0.4510</td>\n",
       "      <td>97.085</td>\n",
       "      <td>major</td>\n",
       "      <td>2015</td>\n",
       "      <td>3.837100</td>\n",
       "      <td>3 m, 50 s</td>\n",
       "    </tr>\n",
       "    <tr>\n",
       "      <th>2</th>\n",
       "      <td>7JDWhC422Gtk1Bq0mL3OTC</td>\n",
       "      <td>feel something</td>\n",
       "      <td>Bea Miller</td>\n",
       "      <td>feel something</td>\n",
       "      <td>2019-01-01</td>\n",
       "      <td>pop</td>\n",
       "      <td>pop</td>\n",
       "      <td>180161</td>\n",
       "      <td>86</td>\n",
       "      <td>0.740</td>\n",
       "      <td>...</td>\n",
       "      <td>0.127913</td>\n",
       "      <td>0.24200</td>\n",
       "      <td>0.000156</td>\n",
       "      <td>0.319</td>\n",
       "      <td>0.1560</td>\n",
       "      <td>136.029</td>\n",
       "      <td>major</td>\n",
       "      <td>2019</td>\n",
       "      <td>3.002683</td>\n",
       "      <td>3 m, 0 s</td>\n",
       "    </tr>\n",
       "    <tr>\n",
       "      <th>3</th>\n",
       "      <td>1rfofaqEpACxVEHIZBJe6W</td>\n",
       "      <td>Havana (feat. Young Thug)</td>\n",
       "      <td>Camila Cabello</td>\n",
       "      <td>Camila</td>\n",
       "      <td>2018-01-01</td>\n",
       "      <td>pop</td>\n",
       "      <td>pop</td>\n",
       "      <td>217306</td>\n",
       "      <td>82</td>\n",
       "      <td>0.765</td>\n",
       "      <td>...</td>\n",
       "      <td>0.020127</td>\n",
       "      <td>0.18400</td>\n",
       "      <td>0.000036</td>\n",
       "      <td>0.132</td>\n",
       "      <td>0.3940</td>\n",
       "      <td>104.988</td>\n",
       "      <td>major</td>\n",
       "      <td>2018</td>\n",
       "      <td>3.621767</td>\n",
       "      <td>3 m, 37 s</td>\n",
       "    </tr>\n",
       "    <tr>\n",
       "      <th>4</th>\n",
       "      <td>3e7sxremeOE3wTySiOhGiP</td>\n",
       "      <td>Dusk Till Dawn (feat. Sia) - Radio Edit</td>\n",
       "      <td>ZAYN</td>\n",
       "      <td>Icarus Falls</td>\n",
       "      <td>2017-01-01</td>\n",
       "      <td>pop</td>\n",
       "      <td>pop</td>\n",
       "      <td>239000</td>\n",
       "      <td>64</td>\n",
       "      <td>0.259</td>\n",
       "      <td>...</td>\n",
       "      <td>0.042903</td>\n",
       "      <td>0.10200</td>\n",
       "      <td>0.000001</td>\n",
       "      <td>0.106</td>\n",
       "      <td>0.0951</td>\n",
       "      <td>180.042</td>\n",
       "      <td>minor</td>\n",
       "      <td>2017</td>\n",
       "      <td>3.983333</td>\n",
       "      <td>3 m, 59 s</td>\n",
       "    </tr>\n",
       "  </tbody>\n",
       "</table>\n",
       "<p>5 rows × 22 columns</p>\n",
       "</div>"
      ],
      "text/plain": [
       "                 track_id                                    track  \\\n",
       "0  27ycaQnQAxaPiyeg3nr2aB                             Midnight Sky   \n",
       "1  0prNGof3XqfTvNDxHonvdK                  Scars To Your Beautiful   \n",
       "2  7JDWhC422Gtk1Bq0mL3OTC                           feel something   \n",
       "3  1rfofaqEpACxVEHIZBJe6W                Havana (feat. Young Thug)   \n",
       "4  3e7sxremeOE3wTySiOhGiP  Dusk Till Dawn (feat. Sia) - Radio Edit   \n",
       "\n",
       "           artist                 album release_date subgenre genre  \\\n",
       "0     Miley Cyrus          Midnight Sky   2020-01-01      pop   pop   \n",
       "1    Alessia Cara  Know-It-All (Deluxe)   2015-01-01      pop   pop   \n",
       "2      Bea Miller        feel something   2019-01-01      pop   pop   \n",
       "3  Camila Cabello                Camila   2018-01-01      pop   pop   \n",
       "4            ZAYN          Icarus Falls   2017-01-01      pop   pop   \n",
       "\n",
       "   duration_ms  popularity  danceability  ...  speechiness  acousticness  \\\n",
       "0       223279          92         0.705  ...     0.032309       0.00115   \n",
       "1       230226          73         0.573  ...     0.282309       0.02850   \n",
       "2       180161          86         0.740  ...     0.127913       0.24200   \n",
       "3       217306          82         0.765  ...     0.020127       0.18400   \n",
       "4       239000          64         0.259  ...     0.042903       0.10200   \n",
       "\n",
       "   instrumentalness  liveness  valence    tempo   mode  release_year  \\\n",
       "0          0.003120     0.203   0.2590  110.000  minor          2020   \n",
       "1          0.000000     0.111   0.4510   97.085  major          2015   \n",
       "2          0.000156     0.319   0.1560  136.029  major          2019   \n",
       "3          0.000036     0.132   0.3940  104.988  major          2018   \n",
       "4          0.000001     0.106   0.0951  180.042  minor          2017   \n",
       "\n",
       "  duration_min  duration_minsec  \n",
       "0     3.721317        3 m, 43 s  \n",
       "1     3.837100        3 m, 50 s  \n",
       "2     3.002683         3 m, 0 s  \n",
       "3     3.621767        3 m, 37 s  \n",
       "4     3.983333        3 m, 59 s  \n",
       "\n",
       "[5 rows x 22 columns]"
      ]
     },
     "execution_count": 2,
     "metadata": {},
     "output_type": "execute_result"
    }
   ],
   "source": [
    "df = pd.read_csv('audio_features.csv')\n",
    "df.head()"
   ]
  },
  {
   "cell_type": "markdown",
   "metadata": {},
   "source": [
    "### Train/Test Split<a id='TrainTestSplit'></a>"
   ]
  },
  {
   "cell_type": "markdown",
   "metadata": {},
   "source": [
    "**Define the features (X) and target (y) for the model. </font>**"
   ]
  },
  {
   "cell_type": "code",
   "execution_count": 3,
   "metadata": {},
   "outputs": [],
   "source": [
    "X = df.drop(['track_id', 'track', 'artist', 'album', 'subgenre', 'genre', 'duration_minsec'], axis=1)\n",
    "y = df.genre"
   ]
  },
  {
   "cell_type": "markdown",
   "metadata": {},
   "source": [
    "**Create dummy features for the `mode` column.**"
   ]
  },
  {
   "cell_type": "code",
   "execution_count": 4,
   "metadata": {},
   "outputs": [],
   "source": [
    "X = pd.get_dummies(X).astype(int)"
   ]
  },
  {
   "cell_type": "markdown",
   "metadata": {},
   "source": [
    "**Scale the data.**"
   ]
  },
  {
   "cell_type": "code",
   "execution_count": 5,
   "metadata": {},
   "outputs": [],
   "source": [
    "scaler = preprocessing.StandardScaler().fit(X)\n",
    "X_scaled = scaler.transform(X)"
   ]
  },
  {
   "cell_type": "markdown",
   "metadata": {},
   "source": [
    "**Split the dataset into training and testing sets**"
   ]
  },
  {
   "cell_type": "code",
   "execution_count": 6,
   "metadata": {},
   "outputs": [],
   "source": [
    "X_train, X_test, y_train, y_test = train_test_split(X, y, test_size=.2, random_state=33)"
   ]
  }
 ],
 "metadata": {
  "kernelspec": {
   "display_name": "Python 3",
   "language": "python",
   "name": "python3"
  },
  "language_info": {
   "codemirror_mode": {
    "name": "ipython",
    "version": 3
   },
   "file_extension": ".py",
   "mimetype": "text/x-python",
   "name": "python",
   "nbconvert_exporter": "python",
   "pygments_lexer": "ipython3",
   "version": "3.7.6"
  }
 },
 "nbformat": 4,
 "nbformat_minor": 4
}
