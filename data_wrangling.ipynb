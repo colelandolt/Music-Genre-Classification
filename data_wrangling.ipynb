{
 "cells": [
  {
   "cell_type": "markdown",
   "metadata": {},
   "source": [
    "# Genre Prediction - Data Wrangling\n",
    "\n",
    "This project aims to predict the genre of songs given their audio features. Audio features, as well as other track-wise information, are collected from Spotify. Since Spotify API doesn't offer genre information, I turned to [The Sounds of Spotify](https://open.spotify.com/user/thesoundsofspotify) to generate the dataset of songs and their corectly labeled genres that will be used to train the predictive models. More about this music genre project can be found [here](https://artists.spotify.com/blog/how-spotify-discovers-the-genres-of-tomorrow)."
   ]
  },
  {
   "cell_type": "markdown",
   "metadata": {},
   "source": [
    "Importing required packages"
   ]
  },
  {
   "cell_type": "code",
   "execution_count": null,
   "metadata": {},
   "outputs": [],
   "source": [
    "import os\n",
    "import re\n",
    "import math\n",
    "from datetime import datetime, timedelta, date\n",
    "import numpy as np\n",
    "import pandas as pd\n",
    "import matplotlib.pyplot as plt\n",
    "import seaborn as sns\n",
    "import requests\n",
    "from bs4 import BeautifulSoup\n",
    "from spotify_client import *\n",
    "import lyricsgenius"
   ]
  },
  {
   "cell_type": "markdown",
   "metadata": {},
   "source": [
    "Connecting to Spotify API, which will be used to fetch each of the songs from the Sounds of Spotify playlists as well as their audio features."
   ]
  },
  {
   "cell_type": "code",
   "execution_count": null,
   "metadata": {},
   "outputs": [],
   "source": [
    "sp_client_id = '665fe23a8c264e8d969f97d1666c3c49'\n",
    "sp_client_secret = 'cd9f621c0b904a40b55aae8092ab0bad'\n",
    "sp = SpotifyAPI(sp_client_id, sp_client_secret)"
   ]
  },
  {
   "cell_type": "markdown",
   "metadata": {},
   "source": [
    "Connecting to Genius API, which will be used to fetch each songs' lyrics."
   ]
  },
  {
   "cell_type": "code",
   "execution_count": null,
   "metadata": {},
   "outputs": [],
   "source": [
    "ge_client_id = 'P3-oej0e3s4DOetE6IJOwCtuS61xFT1Q04gtF9DrDU8RudsfBZF01BD0Z3NdrI-4'\n",
    "ge_client_secret = 'QBj5U83_bkukCNgEBv26m9xHxzL2mZhFaJn9J-2vLK2fLsA59J7WrORn5171xbn21Otin1U3lIJNHV67raqRiQ'\n",
    "gen = lyricsgenius.Genius('BNXZ6rt8-NIcKLnGurr1YOkhWi5WVU5-fWktELHm7xpp-lJY2jJ-uLUwqGs9wZ3L')"
   ]
  },
  {
   "cell_type": "markdown",
   "metadata": {},
   "source": [
    "Initializing the dataframe that will contain all songs from all genres with relevant column names for features"
   ]
  },
  {
   "cell_type": "code",
   "execution_count": null,
   "metadata": {},
   "outputs": [],
   "source": [
    "cols = ['track_id', 'track', 'artist', 'album', 'release_date', 'subgenre', 'genre',\n",
    "        'duration_ms', 'popularity', 'danceability', 'energy', 'loudness', 'speechiness',\n",
    "        'acousticness', 'instrumentalness', 'liveness', 'valence', 'tempo', 'mode']\n",
    "af = pd.DataFrame(columns=cols)"
   ]
  },
  {
   "cell_type": "markdown",
   "metadata": {},
   "source": [
    "Helper functions to collect playlist tracks, their audio features, and their lyrics for a major genre from each subgenre's playlist"
   ]
  },
  {
   "cell_type": "code",
   "execution_count": null,
   "metadata": {},
   "outputs": [],
   "source": [
    "def collect_id(subgenre):\n",
    "    '''\n",
    "    Returns Spotify playlist ID for given subgenre\n",
    "    '''\n",
    "    playlist_id = str()\n",
    "    query = 'The Sound of ' + subgenre\n",
    "    playlists = sp.search(query, search_type='playlist')['playlists']\n",
    "    for playlist in playlists['items']:\n",
    "        if query.lower() == playlist['name'].lower():\n",
    "            playlist_id = playlist['id']\n",
    "            break\n",
    "    if (subgenre == 'viral pop'): playlist_id = '0tAsyMQoefUL8DWNn6xkAk'\n",
    "    if (subgenre == 'classic country pop'): playlist_id = '6lOCvTH6vW5Jc7oyryNom4'\n",
    "    #print(subgenre + ': ' + str(playlist_id))\n",
    "    return playlist_id\n",
    "\n",
    "def collect_lyrics(track, artist):\n",
    "    ''' \n",
    "    Returns lyrics of each song using Genius API\n",
    "    '''\n",
    "    try:\n",
    "        song = gen.search_song(track.split(\"-\", 1)[0].split(\"(\", 1)[0], artist)\n",
    "        lyrics = lyrics = re.sub(r'[\\(\\[].*?[\\)\\]]', '', song.lyrics)\n",
    "        return list(filter(lambda x: len(x) > 0, lyrics.splitlines()))\n",
    "    except:\n",
    "        return None\n",
    "\n",
    "def collect_songs(subgenres):\n",
    "    ''' \n",
    "    Returns playlist songs for each subgenre of a major genre\n",
    "    '''\n",
    "    df = pd.DataFrame(columns=cols)\n",
    "    for sg in subgenres:\n",
    "        playlist_id = collect_id(sg)\n",
    "        playlist_tracks = sp.get_playlist_tracks(playlist_id)['items']\n",
    "        for i in np.arange(0, len(playlist_tracks)):\n",
    "            track_id = playlist_tracks[i]['track']['id']\n",
    "            track = playlist_tracks[i]['track']['name']\n",
    "            artist = playlist_tracks[i]['track']['artists'][0]['name']\n",
    "            album = playlist_tracks[i]['track']['album']['name']\n",
    "            release_date = playlist_tracks[i]['track']['album']['release_date']\n",
    "            duration_ms = playlist_tracks[i]['track']['duration_ms']\n",
    "            popularity = playlist_tracks[i]['track']['popularity']\n",
    "            audio_features = sp.get_audio_features(track_id)\n",
    "            attributes = [track_id, track, artist, album, release_date, sg, subgenres[0].split()[0],\n",
    "                          pd.to_numeric(duration_ms), pd.to_numeric(popularity),\n",
    "                          audio_features['danceability'], audio_features['energy'],\n",
    "                          audio_features['loudness'], audio_features['speechiness'],\n",
    "                          audio_features['acousticness'], audio_features['instrumentalness'],\n",
    "                          audio_features['liveness'], audio_features['valence'],\n",
    "                          audio_features['tempo'], audio_features['mode']]\n",
    "            df = df.append(pd.Series(attributes, index=cols, name=i))\n",
    "    return df"
   ]
  },
  {
   "cell_type": "markdown",
   "metadata": {},
   "source": [
    "#### Collect Songs and Audio Features"
   ]
  },
  {
   "cell_type": "markdown",
   "metadata": {},
   "source": [
    "Collecting songs of each subgenre for each major genre (retrieved from [here](http://everynoise.com/everynoise1d.cgi?scope=all)). There are seven subgenre playlists per major genre including the major genre itself, and each playlist contains one hundred songs."
   ]
  },
  {
   "cell_type": "markdown",
   "metadata": {},
   "source": [
    "#### Pop"
   ]
  },
  {
   "cell_type": "code",
   "execution_count": null,
   "metadata": {},
   "outputs": [],
   "source": [
    "pop = collect_songs(['pop', 'dance pop', 'post-teen pop', 'electropop',\n",
    "                     'viral pop', 'tropical house', 'neo mellow'])\n",
    "pop.head()"
   ]
  },
  {
   "cell_type": "markdown",
   "metadata": {},
   "source": [
    "#### R&B"
   ]
  },
  {
   "cell_type": "code",
   "execution_count": null,
   "metadata": {},
   "outputs": [],
   "source": [
    "rnb = collect_songs(['r&b', 'urban contemporary', 'hip pop', 'new jack swing',\n",
    "                     'neo soul', 'pop r&b', 'alternative r&b'])\n",
    "rnb.head()"
   ]
  },
  {
   "cell_type": "markdown",
   "metadata": {},
   "source": [
    "#### Hip Hop"
   ]
  },
  {
   "cell_type": "code",
   "execution_count": null,
   "metadata": {},
   "outputs": [],
   "source": [
    "hiphop = collect_songs(['hip hop', 'rap', 'pop rap', 'trap', 'melodic rap',\n",
    "                     'alternative hip hop', 'gangster rap'])\n",
    "rap.head()"
   ]
  },
  {
   "cell_type": "markdown",
   "metadata": {},
   "source": [
    "#### Latin"
   ]
  },
  {
   "cell_type": "code",
   "execution_count": null,
   "metadata": {},
   "outputs": [],
   "source": [
    "latin = collect_songs(['latin', 'latin pop', 'reggaeton', 'tropical',\n",
    "                     'mexican pop', 'colombian pop', 'latin hip hop'])\n",
    "latin.head()"
   ]
  },
  {
   "cell_type": "markdown",
   "metadata": {},
   "source": [
    "#### Reggae"
   ]
  },
  {
   "cell_type": "code",
   "execution_count": null,
   "metadata": {
    "scrolled": true
   },
   "outputs": [],
   "source": [
    "reggae = collect_songs(['reggae', 'roots reggae', 'dub', 'ska',\n",
    "                        'modern reggae', 'reggae fusion', 'dancehall'])\n",
    "reggae.head()"
   ]
  },
  {
   "cell_type": "markdown",
   "metadata": {},
   "source": [
    "#### EDM"
   ]
  },
  {
   "cell_type": "code",
   "execution_count": null,
   "metadata": {},
   "outputs": [],
   "source": [
    "edm = collect_songs(['edm', 'pop edm', 'electro house', 'progressive electro house',\n",
    "                     'house', 'progressive house', 'big room'])\n",
    "edm.head()"
   ]
  },
  {
   "cell_type": "markdown",
   "metadata": {},
   "source": [
    "#### Indie"
   ]
  },
  {
   "cell_type": "code",
   "execution_count": null,
   "metadata": {},
   "outputs": [],
   "source": [
    "indie = collect_songs(['indie pop', 'indie poptimism', 'indietronica', 'lo-fi',\n",
    "                     'indie rock', 'modern rock', 'alternative rock'])\n",
    "indie.head()"
   ]
  },
  {
   "cell_type": "markdown",
   "metadata": {},
   "source": [
    "#### Rock Music"
   ]
  },
  {
   "cell_type": "code",
   "execution_count": null,
   "metadata": {},
   "outputs": [],
   "source": [
    "rock = collect_songs(['rock', 'pop rock', 'classic rock', 'mellow gold',\n",
    "                      'album rock', 'soft rock', 'permanent wave'])\n",
    "rock.head()"
   ]
  },
  {
   "cell_type": "markdown",
   "metadata": {},
   "source": [
    "#### Metal"
   ]
  },
  {
   "cell_type": "code",
   "execution_count": null,
   "metadata": {},
   "outputs": [],
   "source": [
    "metal = collect_songs(['metal', 'alternative metal', 'nu metal', 'hard rock',\n",
    "                     'thrash metal', 'death metal', 'glam metal'])\n",
    "metal.head()"
   ]
  },
  {
   "cell_type": "markdown",
   "metadata": {},
   "source": [
    "#### Country"
   ]
  },
  {
   "cell_type": "code",
   "execution_count": null,
   "metadata": {},
   "outputs": [],
   "source": [
    "country = collect_songs(['country', 'contemporary country', 'country pop', 'classic country pop',\n",
    "                          'country road', 'country rock', 'modern country rock'])\n",
    "country.head()"
   ]
  },
  {
   "cell_type": "markdown",
   "metadata": {},
   "source": [
    "#### Jazz"
   ]
  },
  {
   "cell_type": "code",
   "execution_count": null,
   "metadata": {},
   "outputs": [],
   "source": [
    "jazz = collect_songs(['jazz', 'cool jazz', 'soul jazz', 'bebop',\n",
    "                      'hard bop','contemporary post-bop', 'big band'])\n",
    "jazz.head()"
   ]
  },
  {
   "cell_type": "markdown",
   "metadata": {},
   "source": [
    "#### Classical"
   ]
  },
  {
   "cell_type": "code",
   "execution_count": null,
   "metadata": {},
   "outputs": [],
   "source": [
    "classical = collect_songs(['classical', 'early music', 'renaissance', 'baroque',\n",
    "                           'late romantic era', 'post-romantic era', 'early modern classical'])\n",
    "classical.head()"
   ]
  },
  {
   "cell_type": "markdown",
   "metadata": {},
   "source": [
    "Concatenate all major genres together"
   ]
  },
  {
   "cell_type": "code",
   "execution_count": null,
   "metadata": {},
   "outputs": [],
   "source": [
    "af = pd.concat([pop, rnb, hiphop, latin, reggae, edm, indie, rock, metal, country, jazz, classical])\n",
    "af.release_date = pd.to_datetime([rd.split('-')[0] for rd in af.release_date])\n",
    "for col in list(af.columns[7:]):\n",
    "    af[col] = pd.to_numeric(af[col])\n",
    "af['mode'] = ['major' if mode == 1 else 'minor' for mode in af['mode']]\n",
    "af.info()"
   ]
  },
  {
   "cell_type": "markdown",
   "metadata": {},
   "source": [
    "Add columns"
   ]
  },
  {
   "cell_type": "code",
   "execution_count": null,
   "metadata": {},
   "outputs": [],
   "source": [
    "af = pd.read_csv('audio_features.csv')\n",
    "af['speechiness'] = af[['speechiness']].apply(lambda x: (x-min(x))/(max(x)-min(x)))\n",
    "af['release_date'] = af.release_date.apply(lambda x: datetime.datetime.strptime(x, '%Y-%m-%d'))\n",
    "af['release_year'] = af.release_date.apply(lambda x: x.year)\n",
    "af['duration_min'] = af.duration_ms/(1000*60)\n",
    "af['duration_minsec'] = af.duration_min.apply(lambda x: str(math.floor(x))+' m, '+str(math.floor((x-math.floor(x))*60))+' s')\n",
    "af.head()"
   ]
  },
  {
   "cell_type": "markdown",
   "metadata": {},
   "source": [
    "Download dataframe to a csv file"
   ]
  },
  {
   "cell_type": "code",
   "execution_count": null,
   "metadata": {},
   "outputs": [],
   "source": [
    "af.to_csv('audio_features.csv', index=False)"
   ]
  },
  {
   "cell_type": "markdown",
   "metadata": {},
   "source": [
    "Data Definitions"
   ]
  },
  {
   "cell_type": "code",
   "execution_count": null,
   "metadata": {},
   "outputs": [],
   "source": [
    "af_definitions = pd.DataFrame(['Unique identifier', 'Track name', 'Artist name', 'Album name',\n",
    "                              'Date released', 'Subgenre of the major genre', 'Major genre',\n",
    "                              'The duration of the track in milliseconds',\n",
    "                               'The popularity of the track on Spotify',\n",
    "                               'How suitable a track is for dancing based on a combination of musical elements including tempo, rhythm stability, beat strength, and overall regularity. A value of 0.0 is least danceable and 1.0 is most danceable.',\n",
    "                              'A perceptual measure of intensity and activity on a scale of 0.0 to 1.0 . Typically, energetic tracks feel fast, loud, and noisy. For example, death metal has high energy, while a Bach prelude scores low on the scale. Perceptual features contributing to this attribute include dynamic range, perceived loudness, timbre, onset rate, and general entropy.',\n",
    "                              'The overall loudness of a track in decibels (dB). Loudness values are averaged across the entire track and are useful for comparing relative loudness of tracks. Loudness is the quality of a sound that is the primary psychological correlate of physical strength (amplitude). Values typical range between -60 and 0 db.',\n",
    "                              'Detects the presence of spoken words in a track. The more exclusively speech-like the recording (e.g. talk show, audio book, poetry), the closer to 1.0 the attribute value. Values above 0.66 describe tracks that are probably made entirely of spoken words. Values between 0.33 and 0.66 describe tracks that may contain both music and speech, either in sections or layered, including such cases as rap music. Values below 0.33 most likely represent music and other non-speech-like tracks.',\n",
    "                              '\tA confidence measure from 0.0 to 1.0 of whether the track is acoustic. 1.0 represents high confidence the track is acoustic.',\n",
    "                              'Predicts whether a track contains no vocals. “Ooh” and “aah” sounds are treated as instrumental in this context. Rap or spoken word tracks are clearly “vocal”. The closer the instrumentalness value is to 1.0, the greater likelihood the track contains no vocal content. Values above 0.5 are intended to represent instrumental tracks, but confidence is higher as the value approaches 1.0.',\n",
    "                              'Detects the presence of an audience in the recording. Higher liveness values represent an increased probability that the track was performed live. A value above 0.8 provides strong likelihood that the track is live.',\n",
    "                              'A measure from 0.0 to 1.0 describing the musical positiveness conveyed by a track. Tracks with high valence sound more positive (e.g. happy, cheerful, euphoric), while tracks with low valence sound more negative (e.g. sad, depressed, angry). ',\n",
    "                              'The overall estimated tempo of a track in beats per minute (BPM). In musical terminology, tempo is the speed or pace of a given piece and derives directly from the average beat duration.',\n",
    "                              'Mode indicates the modality (major or minor) of a track, the type of scale from which its melodic content is derived. Major is represented by 1 and minor is 0.',\n",
    "                              'Year released', 'The duration of the track in minutes', 'The duration of the track in minutes and seconds'],\n",
    "                                  index=af.columns,\n",
    "                                  columns=['definition'])\n",
    "af_definitions.to_csv('data_definitions.csv')\n",
    "af_definitions"
   ]
  },
  {
   "cell_type": "markdown",
   "metadata": {},
   "source": [
    "### Collect Lyrics"
   ]
  },
  {
   "cell_type": "code",
   "execution_count": null,
   "metadata": {},
   "outputs": [],
   "source": [
    "lyrics = af[['track_id', 'track', 'artist']]\n",
    "lyrics['lyrics'] = lyrics.apply(lambda x: collect_lyrics(x['track'], x['artist']), axis=1)"
   ]
  },
  {
   "cell_type": "code",
   "execution_count": null,
   "metadata": {},
   "outputs": [],
   "source": [
    "lyrics.info()"
   ]
  },
  {
   "cell_type": "code",
   "execution_count": null,
   "metadata": {},
   "outputs": [],
   "source": [
    "lyrics.to_csv('lyrics.csv')"
   ]
  },
  {
   "cell_type": "code",
   "execution_count": null,
   "metadata": {},
   "outputs": [],
   "source": [
    "lyrics_definitions = pd.DataFrame(['Unique identifier', 'Track name', 'Artist name', 'Song Lyrics'],\n",
    "                                  index=['track_id', 'track', 'artist', 'lyrics'],\n",
    "                                  columns=['definition'])\n",
    "lyrics_definitions"
   ]
  }
 ],
 "metadata": {
  "kernelspec": {
   "display_name": "Python 3",
   "language": "python",
   "name": "python3"
  },
  "language_info": {
   "codemirror_mode": {
    "name": "ipython",
    "version": 3
   },
   "file_extension": ".py",
   "mimetype": "text/x-python",
   "name": "python",
   "nbconvert_exporter": "python",
   "pygments_lexer": "ipython3",
   "version": "3.7.6"
  }
 },
 "nbformat": 4,
 "nbformat_minor": 4
}
