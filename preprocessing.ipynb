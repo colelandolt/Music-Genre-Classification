{
 "cells": [
  {
   "cell_type": "markdown",
   "metadata": {},
   "source": [
    "# Genre Prediction - Preprocessing<a id='Preprocessing'></a>"
   ]
  },
  {
   "cell_type": "markdown",
   "metadata": {},
   "source": [
    "## Contents<a id='Contents'></a>\n",
    "* [Preprocessing](#Preprocessing)\n",
    "  * [Contents](#Contents)\n",
    "    * [Imports](#Imports)\n",
    "    * [Load Data](#LoadData)\n",
    "    * [Train/Test Split](#TrainTestSplit)"
   ]
  },
  {
   "cell_type": "markdown",
   "metadata": {},
   "source": [
    "### Imports<a id='Imports'></a>"
   ]
  },
  {
   "cell_type": "code",
   "execution_count": 1,
   "metadata": {},
   "outputs": [],
   "source": [
    "import os\n",
    "import math\n",
    "from datetime import datetime, timedelta, date\n",
    "import numpy as np\n",
    "import pandas as pd\n",
    "import matplotlib.pyplot as plt\n",
    "import seaborn as sns\n",
    "import scipy.stats as stats\n",
    "from sklearn.model_selection import train_test_split\n",
    "from sklearn import preprocessing"
   ]
  },
  {
   "cell_type": "markdown",
   "metadata": {},
   "source": [
    "### Load Data<a id='LoadData'></a>"
   ]
  },
  {
   "cell_type": "code",
   "execution_count": 2,
   "metadata": {},
   "outputs": [
    {
     "data": {
      "text/html": [
       "<div>\n",
       "<style scoped>\n",
       "    .dataframe tbody tr th:only-of-type {\n",
       "        vertical-align: middle;\n",
       "    }\n",
       "\n",
       "    .dataframe tbody tr th {\n",
       "        vertical-align: top;\n",
       "    }\n",
       "\n",
       "    .dataframe thead th {\n",
       "        text-align: right;\n",
       "    }\n",
       "</style>\n",
       "<table border=\"1\" class=\"dataframe\">\n",
       "  <thead>\n",
       "    <tr style=\"text-align: right;\">\n",
       "      <th></th>\n",
       "      <th>track_id</th>\n",
       "      <th>track</th>\n",
       "      <th>artist</th>\n",
       "      <th>album</th>\n",
       "      <th>release_date</th>\n",
       "      <th>genre</th>\n",
       "      <th>subgenre</th>\n",
       "      <th>duration_ms</th>\n",
       "      <th>popularity</th>\n",
       "      <th>danceability</th>\n",
       "      <th>...</th>\n",
       "      <th>speechiness</th>\n",
       "      <th>acousticness</th>\n",
       "      <th>instrumentalness</th>\n",
       "      <th>liveness</th>\n",
       "      <th>valence</th>\n",
       "      <th>tempo</th>\n",
       "      <th>mode</th>\n",
       "      <th>release_year</th>\n",
       "      <th>duration_min</th>\n",
       "      <th>duration_minsec</th>\n",
       "    </tr>\n",
       "  </thead>\n",
       "  <tbody>\n",
       "    <tr>\n",
       "      <th>0</th>\n",
       "      <td>0prNGof3XqfTvNDxHonvdK</td>\n",
       "      <td>Scars To Your Beautiful</td>\n",
       "      <td>Alessia Cara</td>\n",
       "      <td>Know-It-All (Deluxe)</td>\n",
       "      <td>2015-01-01</td>\n",
       "      <td>pop</td>\n",
       "      <td>pop</td>\n",
       "      <td>230226</td>\n",
       "      <td>73</td>\n",
       "      <td>0.573</td>\n",
       "      <td>...</td>\n",
       "      <td>0.282499</td>\n",
       "      <td>0.0285</td>\n",
       "      <td>0.000000</td>\n",
       "      <td>0.111</td>\n",
       "      <td>0.4510</td>\n",
       "      <td>97.085</td>\n",
       "      <td>1</td>\n",
       "      <td>2015</td>\n",
       "      <td>3.837100</td>\n",
       "      <td>3 m, 50 s</td>\n",
       "    </tr>\n",
       "    <tr>\n",
       "      <th>1</th>\n",
       "      <td>1rfofaqEpACxVEHIZBJe6W</td>\n",
       "      <td>Havana (feat. Young Thug)</td>\n",
       "      <td>Camila Cabello</td>\n",
       "      <td>Camila</td>\n",
       "      <td>2018-01-01</td>\n",
       "      <td>pop</td>\n",
       "      <td>pop</td>\n",
       "      <td>217306</td>\n",
       "      <td>80</td>\n",
       "      <td>0.765</td>\n",
       "      <td>...</td>\n",
       "      <td>0.020387</td>\n",
       "      <td>0.1840</td>\n",
       "      <td>0.000036</td>\n",
       "      <td>0.132</td>\n",
       "      <td>0.3940</td>\n",
       "      <td>104.988</td>\n",
       "      <td>1</td>\n",
       "      <td>2018</td>\n",
       "      <td>3.621767</td>\n",
       "      <td>3 m, 37 s</td>\n",
       "    </tr>\n",
       "    <tr>\n",
       "      <th>2</th>\n",
       "      <td>4l0Mvzj72xxOpRrp6h8nHi</td>\n",
       "      <td>Lose You To Love Me</td>\n",
       "      <td>Selena Gomez</td>\n",
       "      <td>Rare</td>\n",
       "      <td>2020-01-01</td>\n",
       "      <td>pop</td>\n",
       "      <td>pop</td>\n",
       "      <td>206458</td>\n",
       "      <td>83</td>\n",
       "      <td>0.488</td>\n",
       "      <td>...</td>\n",
       "      <td>0.056394</td>\n",
       "      <td>0.5560</td>\n",
       "      <td>0.000000</td>\n",
       "      <td>0.210</td>\n",
       "      <td>0.0978</td>\n",
       "      <td>102.819</td>\n",
       "      <td>1</td>\n",
       "      <td>2020</td>\n",
       "      <td>3.440967</td>\n",
       "      <td>3 m, 26 s</td>\n",
       "    </tr>\n",
       "    <tr>\n",
       "      <th>3</th>\n",
       "      <td>6T6D9CIrHkALcHPafDFA6L</td>\n",
       "      <td>Vibez</td>\n",
       "      <td>ZAYN</td>\n",
       "      <td>Nobody Is Listening</td>\n",
       "      <td>2021-01-01</td>\n",
       "      <td>pop</td>\n",
       "      <td>pop</td>\n",
       "      <td>163346</td>\n",
       "      <td>73</td>\n",
       "      <td>0.643</td>\n",
       "      <td>...</td>\n",
       "      <td>0.163887</td>\n",
       "      <td>0.2410</td>\n",
       "      <td>0.017800</td>\n",
       "      <td>0.120</td>\n",
       "      <td>0.2970</td>\n",
       "      <td>96.924</td>\n",
       "      <td>1</td>\n",
       "      <td>2021</td>\n",
       "      <td>2.722433</td>\n",
       "      <td>2 m, 43 s</td>\n",
       "    </tr>\n",
       "    <tr>\n",
       "      <th>4</th>\n",
       "      <td>15og0pCEcTFWEXOFKdcJlU</td>\n",
       "      <td>Hate Me</td>\n",
       "      <td>Ellie Goulding</td>\n",
       "      <td>Brightest Blue</td>\n",
       "      <td>2020-01-01</td>\n",
       "      <td>pop</td>\n",
       "      <td>pop</td>\n",
       "      <td>188066</td>\n",
       "      <td>68</td>\n",
       "      <td>0.640</td>\n",
       "      <td>...</td>\n",
       "      <td>0.111464</td>\n",
       "      <td>0.0875</td>\n",
       "      <td>0.000000</td>\n",
       "      <td>0.147</td>\n",
       "      <td>0.7620</td>\n",
       "      <td>75.018</td>\n",
       "      <td>1</td>\n",
       "      <td>2020</td>\n",
       "      <td>3.134433</td>\n",
       "      <td>3 m, 8 s</td>\n",
       "    </tr>\n",
       "  </tbody>\n",
       "</table>\n",
       "<p>5 rows × 22 columns</p>\n",
       "</div>"
      ],
      "text/plain": [
       "                 track_id                      track          artist  \\\n",
       "0  0prNGof3XqfTvNDxHonvdK    Scars To Your Beautiful    Alessia Cara   \n",
       "1  1rfofaqEpACxVEHIZBJe6W  Havana (feat. Young Thug)  Camila Cabello   \n",
       "2  4l0Mvzj72xxOpRrp6h8nHi        Lose You To Love Me    Selena Gomez   \n",
       "3  6T6D9CIrHkALcHPafDFA6L                      Vibez            ZAYN   \n",
       "4  15og0pCEcTFWEXOFKdcJlU                    Hate Me  Ellie Goulding   \n",
       "\n",
       "                  album release_date genre subgenre  duration_ms  popularity  \\\n",
       "0  Know-It-All (Deluxe)   2015-01-01   pop      pop       230226          73   \n",
       "1                Camila   2018-01-01   pop      pop       217306          80   \n",
       "2                  Rare   2020-01-01   pop      pop       206458          83   \n",
       "3   Nobody Is Listening   2021-01-01   pop      pop       163346          73   \n",
       "4        Brightest Blue   2020-01-01   pop      pop       188066          68   \n",
       "\n",
       "   danceability  ...  speechiness  acousticness  instrumentalness  liveness  \\\n",
       "0         0.573  ...     0.282499        0.0285          0.000000     0.111   \n",
       "1         0.765  ...     0.020387        0.1840          0.000036     0.132   \n",
       "2         0.488  ...     0.056394        0.5560          0.000000     0.210   \n",
       "3         0.643  ...     0.163887        0.2410          0.017800     0.120   \n",
       "4         0.640  ...     0.111464        0.0875          0.000000     0.147   \n",
       "\n",
       "   valence    tempo  mode  release_year  duration_min  duration_minsec  \n",
       "0   0.4510   97.085     1          2015      3.837100        3 m, 50 s  \n",
       "1   0.3940  104.988     1          2018      3.621767        3 m, 37 s  \n",
       "2   0.0978  102.819     1          2020      3.440967        3 m, 26 s  \n",
       "3   0.2970   96.924     1          2021      2.722433        2 m, 43 s  \n",
       "4   0.7620   75.018     1          2020      3.134433         3 m, 8 s  \n",
       "\n",
       "[5 rows x 22 columns]"
      ]
     },
     "execution_count": 2,
     "metadata": {},
     "output_type": "execute_result"
    }
   ],
   "source": [
    "df = pd.read_csv('data/audio_features.csv')\n",
    "df.head()"
   ]
  },
  {
   "cell_type": "markdown",
   "metadata": {},
   "source": [
    "### Train/Test Split<a id='TrainTestSplit'></a>"
   ]
  },
  {
   "cell_type": "markdown",
   "metadata": {},
   "source": [
    "**Define the features (X) and target (y) for the model. </font>**"
   ]
  },
  {
   "cell_type": "code",
   "execution_count": 3,
   "metadata": {},
   "outputs": [],
   "source": [
    "X = df.drop(['track_id', 'track', 'artist', 'album', 'subgenre', 'genre', 'duration_minsec'], axis=1)\n",
    "y = df.genre"
   ]
  },
  {
   "cell_type": "markdown",
   "metadata": {},
   "source": [
    "**Scale the data.**"
   ]
  },
  {
   "cell_type": "code",
   "execution_count": 5,
   "metadata": {},
   "outputs": [],
   "source": []
  },
  {
   "cell_type": "markdown",
   "metadata": {},
   "source": [
    "**Split the dataset into training and testing sets**"
   ]
  },
  {
   "cell_type": "code",
   "execution_count": 6,
   "metadata": {},
   "outputs": [],
   "source": [
    "X_train, X_test, y_train, y_test = train_test_split(X, y, test_size=.2, random_state=33)"
   ]
  }
 ],
 "metadata": {
  "kernelspec": {
   "display_name": "Python 3",
   "language": "python",
   "name": "python3"
  },
  "language_info": {
   "codemirror_mode": {
    "name": "ipython",
    "version": 3
   },
   "file_extension": ".py",
   "mimetype": "text/x-python",
   "name": "python",
   "nbconvert_exporter": "python",
   "pygments_lexer": "ipython3",
   "version": "3.7.6"
  }
 },
 "nbformat": 4,
 "nbformat_minor": 4
}
