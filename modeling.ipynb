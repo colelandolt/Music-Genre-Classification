{
 "cells": [
  {
   "cell_type": "markdown",
   "metadata": {},
   "source": [
    "# Genre Prediction - Modeling<a id='Modeling'></a>"
   ]
  },
  {
   "cell_type": "markdown",
   "metadata": {},
   "source": [
    "## Contents<a id='Contents'></a>\n",
    "* [Modeling](#Modeling)\n",
    "  * [Contents](#Contents)\n",
    "    * [Imports](#Imports)\n",
    "    * [Load Data](#LoadData)\n",
    "    * [Model Training](#Training)\n",
    "    * [Decision Tree Classifier](#DecisionTree)\n",
    "        * [Entropy](#Entropy)\n",
    "        * [GiniImpurity](#GiniImpurity)\n",
    "    * [Random Forest Classifier](#RandomForest)\n",
    "    * [Gradient Boosting Classifier](#GradientBoosting)\n",
    "    * [Extreme Gradient Boosting (XGB) Classifier](#XGB)\n",
    "    * [Conclusion](#Conclusion)"
   ]
  },
  {
   "cell_type": "markdown",
   "metadata": {},
   "source": [
    "### Imports<a id='Imports'></a>"
   ]
  },
  {
   "cell_type": "code",
   "execution_count": 4,
   "metadata": {},
   "outputs": [],
   "source": [
    "import numpy as np\n",
    "import pandas as pd\n",
    "import matplotlib.pyplot as plt\n",
    "import seaborn as sns\n",
    "from sklearn.preprocessing import StandardScaler\n",
    "from sklearn.model_selection import train_test_split, RandomizedSearchCV, GridSearchCV\n",
    "from sklearn.tree import DecisionTreeClassifier\n",
    "from sklearn.ensemble import RandomForestClassifier, GradientBoostingClassifier\n",
    "from xgboost import XGBClassifier, DMatrix, cv\n",
    "from sklearn.metrics import classification_report, confusion_matrix, roc_curve, auc\n",
    "import sklearn.cluster\n",
    "import sklearn.decomposition"
   ]
  },
  {
   "cell_type": "markdown",
   "metadata": {},
   "source": [
    "### Load Data<a id='Load Data'></a>"
   ]
  },
  {
   "cell_type": "code",
   "execution_count": 34,
   "metadata": {},
   "outputs": [
    {
     "data": {
      "text/html": [
       "<div>\n",
       "<style scoped>\n",
       "    .dataframe tbody tr th:only-of-type {\n",
       "        vertical-align: middle;\n",
       "    }\n",
       "\n",
       "    .dataframe tbody tr th {\n",
       "        vertical-align: top;\n",
       "    }\n",
       "\n",
       "    .dataframe thead th {\n",
       "        text-align: right;\n",
       "    }\n",
       "</style>\n",
       "<table border=\"1\" class=\"dataframe\">\n",
       "  <thead>\n",
       "    <tr style=\"text-align: right;\">\n",
       "      <th></th>\n",
       "      <th>track_id</th>\n",
       "      <th>track</th>\n",
       "      <th>artist</th>\n",
       "      <th>album</th>\n",
       "      <th>release_date</th>\n",
       "      <th>subgenre</th>\n",
       "      <th>genre</th>\n",
       "      <th>duration_ms</th>\n",
       "      <th>popularity</th>\n",
       "      <th>danceability</th>\n",
       "      <th>...</th>\n",
       "      <th>speechiness</th>\n",
       "      <th>acousticness</th>\n",
       "      <th>instrumentalness</th>\n",
       "      <th>liveness</th>\n",
       "      <th>valence</th>\n",
       "      <th>tempo</th>\n",
       "      <th>mode</th>\n",
       "      <th>release_year</th>\n",
       "      <th>duration_min</th>\n",
       "      <th>duration_minsec</th>\n",
       "    </tr>\n",
       "  </thead>\n",
       "  <tbody>\n",
       "    <tr>\n",
       "      <th>0</th>\n",
       "      <td>27ycaQnQAxaPiyeg3nr2aB</td>\n",
       "      <td>Midnight Sky</td>\n",
       "      <td>Miley Cyrus</td>\n",
       "      <td>Midnight Sky</td>\n",
       "      <td>2020-01-01</td>\n",
       "      <td>pop</td>\n",
       "      <td>pop</td>\n",
       "      <td>223279</td>\n",
       "      <td>92</td>\n",
       "      <td>0.705</td>\n",
       "      <td>...</td>\n",
       "      <td>0.032309</td>\n",
       "      <td>0.00115</td>\n",
       "      <td>0.003120</td>\n",
       "      <td>0.203</td>\n",
       "      <td>0.2590</td>\n",
       "      <td>110.000</td>\n",
       "      <td>0</td>\n",
       "      <td>2020</td>\n",
       "      <td>3.721317</td>\n",
       "      <td>3 m, 43 s</td>\n",
       "    </tr>\n",
       "    <tr>\n",
       "      <th>1</th>\n",
       "      <td>0prNGof3XqfTvNDxHonvdK</td>\n",
       "      <td>Scars To Your Beautiful</td>\n",
       "      <td>Alessia Cara</td>\n",
       "      <td>Know-It-All (Deluxe)</td>\n",
       "      <td>2015-01-01</td>\n",
       "      <td>pop</td>\n",
       "      <td>pop</td>\n",
       "      <td>230226</td>\n",
       "      <td>73</td>\n",
       "      <td>0.573</td>\n",
       "      <td>...</td>\n",
       "      <td>0.282309</td>\n",
       "      <td>0.02850</td>\n",
       "      <td>0.000000</td>\n",
       "      <td>0.111</td>\n",
       "      <td>0.4510</td>\n",
       "      <td>97.085</td>\n",
       "      <td>1</td>\n",
       "      <td>2015</td>\n",
       "      <td>3.837100</td>\n",
       "      <td>3 m, 50 s</td>\n",
       "    </tr>\n",
       "    <tr>\n",
       "      <th>2</th>\n",
       "      <td>7JDWhC422Gtk1Bq0mL3OTC</td>\n",
       "      <td>feel something</td>\n",
       "      <td>Bea Miller</td>\n",
       "      <td>feel something</td>\n",
       "      <td>2019-01-01</td>\n",
       "      <td>pop</td>\n",
       "      <td>pop</td>\n",
       "      <td>180161</td>\n",
       "      <td>86</td>\n",
       "      <td>0.740</td>\n",
       "      <td>...</td>\n",
       "      <td>0.127913</td>\n",
       "      <td>0.24200</td>\n",
       "      <td>0.000156</td>\n",
       "      <td>0.319</td>\n",
       "      <td>0.1560</td>\n",
       "      <td>136.029</td>\n",
       "      <td>1</td>\n",
       "      <td>2019</td>\n",
       "      <td>3.002683</td>\n",
       "      <td>3 m, 0 s</td>\n",
       "    </tr>\n",
       "    <tr>\n",
       "      <th>3</th>\n",
       "      <td>1rfofaqEpACxVEHIZBJe6W</td>\n",
       "      <td>Havana (feat. Young Thug)</td>\n",
       "      <td>Camila Cabello</td>\n",
       "      <td>Camila</td>\n",
       "      <td>2018-01-01</td>\n",
       "      <td>pop</td>\n",
       "      <td>pop</td>\n",
       "      <td>217306</td>\n",
       "      <td>82</td>\n",
       "      <td>0.765</td>\n",
       "      <td>...</td>\n",
       "      <td>0.020127</td>\n",
       "      <td>0.18400</td>\n",
       "      <td>0.000036</td>\n",
       "      <td>0.132</td>\n",
       "      <td>0.3940</td>\n",
       "      <td>104.988</td>\n",
       "      <td>1</td>\n",
       "      <td>2018</td>\n",
       "      <td>3.621767</td>\n",
       "      <td>3 m, 37 s</td>\n",
       "    </tr>\n",
       "    <tr>\n",
       "      <th>4</th>\n",
       "      <td>3e7sxremeOE3wTySiOhGiP</td>\n",
       "      <td>Dusk Till Dawn (feat. Sia) - Radio Edit</td>\n",
       "      <td>ZAYN</td>\n",
       "      <td>Icarus Falls</td>\n",
       "      <td>2017-01-01</td>\n",
       "      <td>pop</td>\n",
       "      <td>pop</td>\n",
       "      <td>239000</td>\n",
       "      <td>64</td>\n",
       "      <td>0.259</td>\n",
       "      <td>...</td>\n",
       "      <td>0.042903</td>\n",
       "      <td>0.10200</td>\n",
       "      <td>0.000001</td>\n",
       "      <td>0.106</td>\n",
       "      <td>0.0951</td>\n",
       "      <td>180.042</td>\n",
       "      <td>0</td>\n",
       "      <td>2017</td>\n",
       "      <td>3.983333</td>\n",
       "      <td>3 m, 59 s</td>\n",
       "    </tr>\n",
       "  </tbody>\n",
       "</table>\n",
       "<p>5 rows × 22 columns</p>\n",
       "</div>"
      ],
      "text/plain": [
       "                 track_id                                    track  \\\n",
       "0  27ycaQnQAxaPiyeg3nr2aB                             Midnight Sky   \n",
       "1  0prNGof3XqfTvNDxHonvdK                  Scars To Your Beautiful   \n",
       "2  7JDWhC422Gtk1Bq0mL3OTC                           feel something   \n",
       "3  1rfofaqEpACxVEHIZBJe6W                Havana (feat. Young Thug)   \n",
       "4  3e7sxremeOE3wTySiOhGiP  Dusk Till Dawn (feat. Sia) - Radio Edit   \n",
       "\n",
       "           artist                 album release_date subgenre genre  \\\n",
       "0     Miley Cyrus          Midnight Sky   2020-01-01      pop   pop   \n",
       "1    Alessia Cara  Know-It-All (Deluxe)   2015-01-01      pop   pop   \n",
       "2      Bea Miller        feel something   2019-01-01      pop   pop   \n",
       "3  Camila Cabello                Camila   2018-01-01      pop   pop   \n",
       "4            ZAYN          Icarus Falls   2017-01-01      pop   pop   \n",
       "\n",
       "   duration_ms  popularity  danceability  ...  speechiness  acousticness  \\\n",
       "0       223279          92         0.705  ...     0.032309       0.00115   \n",
       "1       230226          73         0.573  ...     0.282309       0.02850   \n",
       "2       180161          86         0.740  ...     0.127913       0.24200   \n",
       "3       217306          82         0.765  ...     0.020127       0.18400   \n",
       "4       239000          64         0.259  ...     0.042903       0.10200   \n",
       "\n",
       "   instrumentalness  liveness  valence    tempo  mode  release_year  \\\n",
       "0          0.003120     0.203   0.2590  110.000     0          2020   \n",
       "1          0.000000     0.111   0.4510   97.085     1          2015   \n",
       "2          0.000156     0.319   0.1560  136.029     1          2019   \n",
       "3          0.000036     0.132   0.3940  104.988     1          2018   \n",
       "4          0.000001     0.106   0.0951  180.042     0          2017   \n",
       "\n",
       "   duration_min  duration_minsec  \n",
       "0      3.721317        3 m, 43 s  \n",
       "1      3.837100        3 m, 50 s  \n",
       "2      3.002683         3 m, 0 s  \n",
       "3      3.621767        3 m, 37 s  \n",
       "4      3.983333        3 m, 59 s  \n",
       "\n",
       "[5 rows x 22 columns]"
      ]
     },
     "execution_count": 34,
     "metadata": {},
     "output_type": "execute_result"
    }
   ],
   "source": [
    "df = pd.read_csv('audio_features.csv')\n",
    "df['mode'] = df['mode'].apply(lambda x: 0 if x=='minor' else 1)\n",
    "genres = df.genre.unique()\n",
    "df.head()"
   ]
  },
  {
   "cell_type": "markdown",
   "metadata": {},
   "source": [
    "### Model Training<a id='Training'></a>"
   ]
  },
  {
   "cell_type": "markdown",
   "metadata": {},
   "source": [
    "Initialize X and y"
   ]
  },
  {
   "cell_type": "code",
   "execution_count": 6,
   "metadata": {},
   "outputs": [],
   "source": [
    "X = df.iloc[:,7:21]\n",
    "y = df.genre"
   ]
  },
  {
   "cell_type": "markdown",
   "metadata": {},
   "source": [
    "Split training and testing sets"
   ]
  },
  {
   "cell_type": "code",
   "execution_count": 7,
   "metadata": {},
   "outputs": [],
   "source": [
    "X_train, X_test, y_train, y_test = train_test_split(X, y)"
   ]
  },
  {
   "cell_type": "markdown",
   "metadata": {},
   "source": [
    "Standardize the model features"
   ]
  },
  {
   "cell_type": "code",
   "execution_count": 8,
   "metadata": {},
   "outputs": [],
   "source": [
    "scaler = StandardScaler()\n",
    "scaler.fit(X_train)\n",
    "X_train = scaler.transform(X_train)\n",
    "X_test = scaler.transform(X_test)"
   ]
  },
  {
   "cell_type": "markdown",
   "metadata": {},
   "source": [
    "### Decision Tree Classifiers<a id='DecisionTree'></a>"
   ]
  },
  {
   "cell_type": "markdown",
   "metadata": {},
   "source": [
    "#### Entropy Model<a id='Entropy'></a>"
   ]
  },
  {
   "cell_type": "markdown",
   "metadata": {},
   "source": [
    "Testing"
   ]
  },
  {
   "cell_type": "code",
   "execution_count": 9,
   "metadata": {},
   "outputs": [],
   "source": [
    "entropy_model = DecisionTreeClassifier(criterion=\"entropy\")\n",
    "\n",
    "entropy_model.fit(X_train, y_train)\n",
    "\n",
    "y_pred = entropy_model.predict(X_test)"
   ]
  },
  {
   "cell_type": "markdown",
   "metadata": {},
   "source": [
    "Performance"
   ]
  },
  {
   "cell_type": "code",
   "execution_count": 10,
   "metadata": {
    "scrolled": true
   },
   "outputs": [
    {
     "name": "stdout",
     "output_type": "stream",
     "text": [
      "Accuracy:               precision    recall  f1-score   support\n",
      "\n",
      "   classical       0.88      0.88      0.88       176\n",
      "     country       0.57      0.54      0.55       178\n",
      "         edm       0.76      0.72      0.74       160\n",
      "       indie       0.50      0.47      0.48       205\n",
      "        jazz       0.75      0.75      0.75       170\n",
      "       latin       0.60      0.64      0.62       160\n",
      "       metal       0.60      0.72      0.66       169\n",
      "         pop       0.41      0.42      0.41       167\n",
      "         r&b       0.61      0.60      0.61       166\n",
      "         rap       0.66      0.63      0.64       171\n",
      "      reggae       0.68      0.66      0.67       187\n",
      "        rock       0.55      0.54      0.54       191\n",
      "\n",
      "    accuracy                           0.63      2100\n",
      "   macro avg       0.63      0.63      0.63      2100\n",
      "weighted avg       0.63      0.63      0.63      2100\n",
      "\n"
     ]
    }
   ],
   "source": [
    "print(\"Accuracy:\", classification_report(y_test,y_pred))"
   ]
  },
  {
   "cell_type": "markdown",
   "metadata": {},
   "source": [
    "#### Gini Impurity Model<a id='GiniImpurity'></a>"
   ]
  },
  {
   "cell_type": "markdown",
   "metadata": {},
   "source": [
    "Testing"
   ]
  },
  {
   "cell_type": "code",
   "execution_count": 11,
   "metadata": {},
   "outputs": [],
   "source": [
    "gini_model = DecisionTreeClassifier(criterion=\"gini\")\n",
    "\n",
    "gini_model.fit(X_train, y_train)\n",
    "\n",
    "y_pred = gini_model.predict(X_test)"
   ]
  },
  {
   "cell_type": "markdown",
   "metadata": {},
   "source": [
    "Performance"
   ]
  },
  {
   "cell_type": "code",
   "execution_count": 12,
   "metadata": {},
   "outputs": [
    {
     "name": "stdout",
     "output_type": "stream",
     "text": [
      "Accuracy:               precision    recall  f1-score   support\n",
      "\n",
      "   classical       0.90      0.85      0.87       176\n",
      "     country       0.54      0.56      0.55       178\n",
      "         edm       0.70      0.78      0.73       160\n",
      "       indie       0.51      0.48      0.49       205\n",
      "        jazz       0.73      0.78      0.75       170\n",
      "       latin       0.59      0.62      0.61       160\n",
      "       metal       0.59      0.68      0.63       169\n",
      "         pop       0.47      0.39      0.43       167\n",
      "         r&b       0.54      0.60      0.57       166\n",
      "         rap       0.67      0.63      0.65       171\n",
      "      reggae       0.70      0.67      0.68       187\n",
      "        rock       0.60      0.53      0.57       191\n",
      "\n",
      "    accuracy                           0.63      2100\n",
      "   macro avg       0.63      0.63      0.63      2100\n",
      "weighted avg       0.63      0.63      0.63      2100\n",
      "\n"
     ]
    }
   ],
   "source": [
    "print(\"Accuracy:\", classification_report(y_test,y_pred))"
   ]
  },
  {
   "cell_type": "markdown",
   "metadata": {},
   "source": [
    "### Random Forest Classifier<a id='RandomForest'></a>"
   ]
  },
  {
   "cell_type": "markdown",
   "metadata": {},
   "source": [
    "GridSearch for Best Parameters"
   ]
  },
  {
   "cell_type": "code",
   "execution_count": 14,
   "metadata": {},
   "outputs": [
    {
     "name": "stdout",
     "output_type": "stream",
     "text": [
      "Best Score:0.7277777777777779\n",
      "Best Parameters: {'n_estimators': 44}\n"
     ]
    }
   ],
   "source": [
    "param_grid = {'n_estimators':np.arange(1,50)}\n",
    "rf = RandomForestClassifier()\n",
    "rf_cv= GridSearchCV(rf,param_grid,cv=5)\n",
    "rf_cv.fit(X_train,y_train)\n",
    "\n",
    "print(\"Best Score:\" + str(rf_cv.best_score_))\n",
    "print(\"Best Parameters: \" + str(rf_cv.best_params_))"
   ]
  },
  {
   "cell_type": "markdown",
   "metadata": {},
   "source": [
    "Testing"
   ]
  },
  {
   "cell_type": "code",
   "execution_count": 15,
   "metadata": {},
   "outputs": [],
   "source": [
    "rf_model = RandomForestClassifier(n_estimators=48)\n",
    "\n",
    "rf_model.fit(X_train, y_train)\n",
    "\n",
    "y_pred = rf_model.predict(X_test)"
   ]
  },
  {
   "cell_type": "markdown",
   "metadata": {},
   "source": [
    "Performance"
   ]
  },
  {
   "cell_type": "code",
   "execution_count": 16,
   "metadata": {
    "scrolled": false
   },
   "outputs": [
    {
     "name": "stdout",
     "output_type": "stream",
     "text": [
      "Accuracy:               precision    recall  f1-score   support\n",
      "\n",
      "   classical       0.94      0.93      0.93       176\n",
      "     country       0.63      0.65      0.64       178\n",
      "         edm       0.78      0.84      0.81       160\n",
      "       indie       0.63      0.50      0.56       205\n",
      "        jazz       0.80      0.89      0.85       170\n",
      "       latin       0.79      0.70      0.74       160\n",
      "       metal       0.64      0.76      0.70       169\n",
      "         pop       0.50      0.50      0.50       167\n",
      "         r&b       0.66      0.67      0.67       166\n",
      "         rap       0.80      0.68      0.73       171\n",
      "      reggae       0.71      0.76      0.73       187\n",
      "        rock       0.62      0.64      0.63       191\n",
      "\n",
      "    accuracy                           0.71      2100\n",
      "   macro avg       0.71      0.71      0.71      2100\n",
      "weighted avg       0.71      0.71      0.71      2100\n",
      "\n"
     ]
    }
   ],
   "source": [
    "print(\"Accuracy:\", classification_report(y_test,y_pred))"
   ]
  },
  {
   "cell_type": "code",
   "execution_count": 36,
   "metadata": {},
   "outputs": [
    {
     "data": {
      "text/plain": [
       "<AxesSubplot:>"
      ]
     },
     "execution_count": 36,
     "metadata": {},
     "output_type": "execute_result"
    },
    {
     "data": {
      "image/png": "[encoded data removed]",
      "text/plain": [
       "<Figure size 432x288 with 2 Axes>"
      ]
     },
     "metadata": {
      "needs_background": "light"
     },
     "output_type": "display_data"
    }
   ],
   "source": [
    "cm = confusion_matrix(y_test, y_pred)\n",
    "sns.heatmap(cm, annot=True, xticklabels=genres, yticklabels=genres)"
   ]
  },
  {
   "cell_type": "markdown",
   "metadata": {},
   "source": [
    "### Gradient Boosting Classifier<a id='GradientBoosting'></a>"
   ]
  },
  {
   "cell_type": "markdown",
   "metadata": {},
   "source": [
    "GridSearch for best parameters"
   ]
  },
  {
   "cell_type": "code",
   "execution_count": 18,
   "metadata": {},
   "outputs": [
    {
     "data": {
      "text/plain": [
       "RandomizedSearchCV(cv=5, error_score=nan,\n",
       "                   estimator=GradientBoostingClassifier(ccp_alpha=0.0,\n",
       "                                                        criterion='friedman_mse',\n",
       "                                                        init=None,\n",
       "                                                        learning_rate=0.1,\n",
       "                                                        loss='deviance',\n",
       "                                                        max_depth=3,\n",
       "                                                        max_features=None,\n",
       "                                                        max_leaf_nodes=None,\n",
       "                                                        min_impurity_decrease=0.0,\n",
       "                                                        min_impurity_split=None,\n",
       "                                                        min_samples_leaf=1,\n",
       "                                                        min_samples_split=2,\n",
       "                                                        min_weight_fraction_leaf=0.0,\n",
       "                                                        n_estimators=100,\n",
       "                                                        n_ite...\n",
       "                   param_distributions={'learning_rate': [0.05, 0.1, 0.25, 0.5,\n",
       "                                                          0.75, 1],\n",
       "                                        'max_depth': array([2, 3, 4, 5]),\n",
       "                                        'n_estimators': array([ 1,  2,  3,  4,  5,  6,  7,  8,  9, 10, 11, 12, 13, 14, 15, 16, 17,\n",
       "       18, 19, 20, 21, 22, 23, 24, 25, 26, 27, 28, 29, 30, 31, 32, 33, 34,\n",
       "       35, 36, 37, 38, 39, 40, 41, 42, 43, 44, 45, 46, 47, 48, 49])},\n",
       "                   pre_dispatch='2*n_jobs', random_state=None, refit=True,\n",
       "                   return_train_score=False, scoring=None, verbose=0)"
      ]
     },
     "execution_count": 18,
     "metadata": {},
     "output_type": "execute_result"
    }
   ],
   "source": [
    "param_grid = {'n_estimators':np.arange(1,50),\n",
    "              'learning_rate':[0.05, 0.1, 0.25, 0.5, 0.75, 1],\n",
    "              'max_depth':np.arange(2,6)}\n",
    "gb = GradientBoostingClassifier()\n",
    "gb_cv= RandomizedSearchCV(gb,param_grid,cv=5)\n",
    "gb_cv.fit(X_train, y_train)\n",
    "\n",
    "print(\"Best Score:\" + str(gb_cv.best_score_))\n",
    "print(\"Best Parameters: \" + str(gb_cv.best_params_))"
   ]
  },
  {
   "cell_type": "markdown",
   "metadata": {},
   "source": [
    "Testing"
   ]
  },
  {
   "cell_type": "code",
   "execution_count": 20,
   "metadata": {},
   "outputs": [],
   "source": [
    "gb_model = GradientBoostingClassifier(n_estimators=37, learning_rate=0.1, max_depth=5)\n",
    "\n",
    "gb_model.fit(X_train, y_train)\n",
    "\n",
    "y_pred = gb_model.predict(X_test)"
   ]
  },
  {
   "cell_type": "markdown",
   "metadata": {},
   "source": [
    "Performance"
   ]
  },
  {
   "cell_type": "code",
   "execution_count": 21,
   "metadata": {
    "scrolled": false
   },
   "outputs": [
    {
     "name": "stdout",
     "output_type": "stream",
     "text": [
      "              precision    recall  f1-score   support\n",
      "\n",
      "   classical       0.95      0.90      0.93       176\n",
      "     country       0.57      0.56      0.56       178\n",
      "         edm       0.87      0.86      0.86       160\n",
      "       indie       0.56      0.48      0.52       205\n",
      "        jazz       0.76      0.88      0.82       170\n",
      "       latin       0.72      0.64      0.68       160\n",
      "       metal       0.69      0.78      0.73       169\n",
      "         pop       0.47      0.51      0.49       167\n",
      "         r&b       0.59      0.61      0.60       166\n",
      "         rap       0.78      0.70      0.73       171\n",
      "      reggae       0.68      0.71      0.69       187\n",
      "        rock       0.64      0.64      0.64       191\n",
      "\n",
      "    accuracy                           0.69      2100\n",
      "   macro avg       0.69      0.69      0.69      2100\n",
      "weighted avg       0.69      0.69      0.68      2100\n",
      "\n"
     ]
    }
   ],
   "source": [
    "print(classification_report(y_test,y_pred))"
   ]
  },
  {
   "cell_type": "code",
   "execution_count": 37,
   "metadata": {},
   "outputs": [
    {
     "data": {
      "text/plain": [
       "<AxesSubplot:>"
      ]
     },
     "execution_count": 37,
     "metadata": {},
     "output_type": "execute_result"
    },
    {
     "data": {
      "image/png": "[encoded data removed]",
      "text/plain": [
       "<Figure size 432x288 with 2 Axes>"
      ]
     },
     "metadata": {
      "needs_background": "light"
     },
     "output_type": "display_data"
    }
   ],
   "source": [
    "cm = confusion_matrix(y_test, y_pred)\n",
    "sns.heatmap(cm, annot=True, xticklabels=genres, yticklabels=genres)"
   ]
  },
  {
   "cell_type": "markdown",
   "metadata": {},
   "source": [
    "### Extreme Gradient Boosting (XGB) Classifier<a id='XGB'></a>"
   ]
  },
  {
   "cell_type": "markdown",
   "metadata": {},
   "source": [
    "GridSearch for best parameters"
   ]
  },
  {
   "cell_type": "code",
   "execution_count": 26,
   "metadata": {},
   "outputs": [
    {
     "name": "stderr",
     "output_type": "stream",
     "text": [
      "C:\\Users\\colel\\anaconda3\\lib\\site-packages\\xgboost\\sklearn.py:888: UserWarning: The use of label encoder in XGBClassifier is deprecated and will be removed in a future release. To remove this warning, do the following: 1) Pass option use_label_encoder=False when constructing XGBClassifier object; and 2) Encode your labels (y) as integers starting with 0, i.e. 0, 1, 2, ..., [num_class - 1].\n",
      "  warnings.warn(label_encoder_deprecation_msg, UserWarning)\n"
     ]
    },
    {
     "name": "stdout",
     "output_type": "stream",
     "text": [
      "[16:44:37] WARNING: C:/Users/Administrator/workspace/xgboost-win64_release_1.3.0/src/learner.cc:1061: Starting in XGBoost 1.3.0, the default evaluation metric used with the objective 'multi:softprob' was changed from 'merror' to 'mlogloss'. Explicitly set eval_metric if you'd like to restore the old behavior.\n",
      "[16:44:38] WARNING: C:/Users/Administrator/workspace/xgboost-win64_release_1.3.0/src/learner.cc:1061: Starting in XGBoost 1.3.0, the default evaluation metric used with the objective 'multi:softprob' was changed from 'merror' to 'mlogloss'. Explicitly set eval_metric if you'd like to restore the old behavior.\n",
      "[16:44:40] WARNING: C:/Users/Administrator/workspace/xgboost-win64_release_1.3.0/src/learner.cc:1061: Starting in XGBoost 1.3.0, the default evaluation metric used with the objective 'multi:softprob' was changed from 'merror' to 'mlogloss'. Explicitly set eval_metric if you'd like to restore the old behavior.\n",
      "[16:44:42] WARNING: C:/Users/Administrator/workspace/xgboost-win64_release_1.3.0/src/learner.cc:1061: Starting in XGBoost 1.3.0, the default evaluation metric used with the objective 'multi:softprob' was changed from 'merror' to 'mlogloss'. Explicitly set eval_metric if you'd like to restore the old behavior.\n",
      "[16:44:43] WARNING: C:/Users/Administrator/workspace/xgboost-win64_release_1.3.0/src/learner.cc:1061: Starting in XGBoost 1.3.0, the default evaluation metric used with the objective 'multi:softprob' was changed from 'merror' to 'mlogloss'. Explicitly set eval_metric if you'd like to restore the old behavior.\n",
      "[16:44:44] WARNING: C:/Users/Administrator/workspace/xgboost-win64_release_1.3.0/src/learner.cc:1061: Starting in XGBoost 1.3.0, the default evaluation metric used with the objective 'multi:softprob' was changed from 'merror' to 'mlogloss'. Explicitly set eval_metric if you'd like to restore the old behavior.\n",
      "[16:44:45] WARNING: C:/Users/Administrator/workspace/xgboost-win64_release_1.3.0/src/learner.cc:1061: Starting in XGBoost 1.3.0, the default evaluation metric used with the objective 'multi:softprob' was changed from 'merror' to 'mlogloss'. Explicitly set eval_metric if you'd like to restore the old behavior.\n",
      "[16:44:46] WARNING: C:/Users/Administrator/workspace/xgboost-win64_release_1.3.0/src/learner.cc:1061: Starting in XGBoost 1.3.0, the default evaluation metric used with the objective 'multi:softprob' was changed from 'merror' to 'mlogloss'. Explicitly set eval_metric if you'd like to restore the old behavior.\n",
      "[16:44:47] WARNING: C:/Users/Administrator/workspace/xgboost-win64_release_1.3.0/src/learner.cc:1061: Starting in XGBoost 1.3.0, the default evaluation metric used with the objective 'multi:softprob' was changed from 'merror' to 'mlogloss'. Explicitly set eval_metric if you'd like to restore the old behavior.\n",
      "[16:44:48] WARNING: C:/Users/Administrator/workspace/xgboost-win64_release_1.3.0/src/learner.cc:1061: Starting in XGBoost 1.3.0, the default evaluation metric used with the objective 'multi:softprob' was changed from 'merror' to 'mlogloss'. Explicitly set eval_metric if you'd like to restore the old behavior.\n",
      "[16:44:49] WARNING: C:/Users/Administrator/workspace/xgboost-win64_release_1.3.0/src/learner.cc:1061: Starting in XGBoost 1.3.0, the default evaluation metric used with the objective 'multi:softprob' was changed from 'merror' to 'mlogloss'. Explicitly set eval_metric if you'd like to restore the old behavior.\n",
      "[16:44:50] WARNING: C:/Users/Administrator/workspace/xgboost-win64_release_1.3.0/src/learner.cc:1061: Starting in XGBoost 1.3.0, the default evaluation metric used with the objective 'multi:softprob' was changed from 'merror' to 'mlogloss'. Explicitly set eval_metric if you'd like to restore the old behavior.\n",
      "[16:44:51] WARNING: C:/Users/Administrator/workspace/xgboost-win64_release_1.3.0/src/learner.cc:1061: Starting in XGBoost 1.3.0, the default evaluation metric used with the objective 'multi:softprob' was changed from 'merror' to 'mlogloss'. Explicitly set eval_metric if you'd like to restore the old behavior.\n",
      "[16:44:52] WARNING: C:/Users/Administrator/workspace/xgboost-win64_release_1.3.0/src/learner.cc:1061: Starting in XGBoost 1.3.0, the default evaluation metric used with the objective 'multi:softprob' was changed from 'merror' to 'mlogloss'. Explicitly set eval_metric if you'd like to restore the old behavior.\n",
      "[16:44:53] WARNING: C:/Users/Administrator/workspace/xgboost-win64_release_1.3.0/src/learner.cc:1061: Starting in XGBoost 1.3.0, the default evaluation metric used with the objective 'multi:softprob' was changed from 'merror' to 'mlogloss'. Explicitly set eval_metric if you'd like to restore the old behavior.\n",
      "[16:44:54] WARNING: C:/Users/Administrator/workspace/xgboost-win64_release_1.3.0/src/learner.cc:1061: Starting in XGBoost 1.3.0, the default evaluation metric used with the objective 'multi:softprob' was changed from 'merror' to 'mlogloss'. Explicitly set eval_metric if you'd like to restore the old behavior.\n",
      "[16:44:56] WARNING: C:/Users/Administrator/workspace/xgboost-win64_release_1.3.0/src/learner.cc:1061: Starting in XGBoost 1.3.0, the default evaluation metric used with the objective 'multi:softprob' was changed from 'merror' to 'mlogloss'. Explicitly set eval_metric if you'd like to restore the old behavior.\n",
      "[16:44:57] WARNING: C:/Users/Administrator/workspace/xgboost-win64_release_1.3.0/src/learner.cc:1061: Starting in XGBoost 1.3.0, the default evaluation metric used with the objective 'multi:softprob' was changed from 'merror' to 'mlogloss'. Explicitly set eval_metric if you'd like to restore the old behavior.\n",
      "[16:44:59] WARNING: C:/Users/Administrator/workspace/xgboost-win64_release_1.3.0/src/learner.cc:1061: Starting in XGBoost 1.3.0, the default evaluation metric used with the objective 'multi:softprob' was changed from 'merror' to 'mlogloss'. Explicitly set eval_metric if you'd like to restore the old behavior.\n",
      "[16:45:01] WARNING: C:/Users/Administrator/workspace/xgboost-win64_release_1.3.0/src/learner.cc:1061: Starting in XGBoost 1.3.0, the default evaluation metric used with the objective 'multi:softprob' was changed from 'merror' to 'mlogloss'. Explicitly set eval_metric if you'd like to restore the old behavior.\n",
      "[16:45:03] WARNING: C:/Users/Administrator/workspace/xgboost-win64_release_1.3.0/src/learner.cc:1061: Starting in XGBoost 1.3.0, the default evaluation metric used with the objective 'multi:softprob' was changed from 'merror' to 'mlogloss'. Explicitly set eval_metric if you'd like to restore the old behavior.\n",
      "[16:45:04] WARNING: C:/Users/Administrator/workspace/xgboost-win64_release_1.3.0/src/learner.cc:1061: Starting in XGBoost 1.3.0, the default evaluation metric used with the objective 'multi:softprob' was changed from 'merror' to 'mlogloss'. Explicitly set eval_metric if you'd like to restore the old behavior.\n",
      "[16:45:04] WARNING: C:/Users/Administrator/workspace/xgboost-win64_release_1.3.0/src/learner.cc:1061: Starting in XGBoost 1.3.0, the default evaluation metric used with the objective 'multi:softprob' was changed from 'merror' to 'mlogloss'. Explicitly set eval_metric if you'd like to restore the old behavior.\n",
      "[16:45:04] WARNING: C:/Users/Administrator/workspace/xgboost-win64_release_1.3.0/src/learner.cc:1061: Starting in XGBoost 1.3.0, the default evaluation metric used with the objective 'multi:softprob' was changed from 'merror' to 'mlogloss'. Explicitly set eval_metric if you'd like to restore the old behavior.\n",
      "[16:45:04] WARNING: C:/Users/Administrator/workspace/xgboost-win64_release_1.3.0/src/learner.cc:1061: Starting in XGBoost 1.3.0, the default evaluation metric used with the objective 'multi:softprob' was changed from 'merror' to 'mlogloss'. Explicitly set eval_metric if you'd like to restore the old behavior.\n",
      "[16:45:04] WARNING: C:/Users/Administrator/workspace/xgboost-win64_release_1.3.0/src/learner.cc:1061: Starting in XGBoost 1.3.0, the default evaluation metric used with the objective 'multi:softprob' was changed from 'merror' to 'mlogloss'. Explicitly set eval_metric if you'd like to restore the old behavior.\n",
      "[16:45:07] WARNING: C:/Users/Administrator/workspace/xgboost-win64_release_1.3.0/src/learner.cc:1061: Starting in XGBoost 1.3.0, the default evaluation metric used with the objective 'multi:softprob' was changed from 'merror' to 'mlogloss'. Explicitly set eval_metric if you'd like to restore the old behavior.\n"
     ]
    },
    {
     "name": "stdout",
     "output_type": "stream",
     "text": [
      "[16:45:10] WARNING: C:/Users/Administrator/workspace/xgboost-win64_release_1.3.0/src/learner.cc:1061: Starting in XGBoost 1.3.0, the default evaluation metric used with the objective 'multi:softprob' was changed from 'merror' to 'mlogloss'. Explicitly set eval_metric if you'd like to restore the old behavior.\n",
      "[16:45:12] WARNING: C:/Users/Administrator/workspace/xgboost-win64_release_1.3.0/src/learner.cc:1061: Starting in XGBoost 1.3.0, the default evaluation metric used with the objective 'multi:softprob' was changed from 'merror' to 'mlogloss'. Explicitly set eval_metric if you'd like to restore the old behavior.\n",
      "[16:45:15] WARNING: C:/Users/Administrator/workspace/xgboost-win64_release_1.3.0/src/learner.cc:1061: Starting in XGBoost 1.3.0, the default evaluation metric used with the objective 'multi:softprob' was changed from 'merror' to 'mlogloss'. Explicitly set eval_metric if you'd like to restore the old behavior.\n",
      "[16:45:18] WARNING: C:/Users/Administrator/workspace/xgboost-win64_release_1.3.0/src/learner.cc:1061: Starting in XGBoost 1.3.0, the default evaluation metric used with the objective 'multi:softprob' was changed from 'merror' to 'mlogloss'. Explicitly set eval_metric if you'd like to restore the old behavior.\n",
      "[16:45:20] WARNING: C:/Users/Administrator/workspace/xgboost-win64_release_1.3.0/src/learner.cc:1061: Starting in XGBoost 1.3.0, the default evaluation metric used with the objective 'multi:softprob' was changed from 'merror' to 'mlogloss'. Explicitly set eval_metric if you'd like to restore the old behavior.\n",
      "[16:45:23] WARNING: C:/Users/Administrator/workspace/xgboost-win64_release_1.3.0/src/learner.cc:1061: Starting in XGBoost 1.3.0, the default evaluation metric used with the objective 'multi:softprob' was changed from 'merror' to 'mlogloss'. Explicitly set eval_metric if you'd like to restore the old behavior.\n",
      "[16:45:25] WARNING: C:/Users/Administrator/workspace/xgboost-win64_release_1.3.0/src/learner.cc:1061: Starting in XGBoost 1.3.0, the default evaluation metric used with the objective 'multi:softprob' was changed from 'merror' to 'mlogloss'. Explicitly set eval_metric if you'd like to restore the old behavior.\n",
      "[16:45:28] WARNING: C:/Users/Administrator/workspace/xgboost-win64_release_1.3.0/src/learner.cc:1061: Starting in XGBoost 1.3.0, the default evaluation metric used with the objective 'multi:softprob' was changed from 'merror' to 'mlogloss'. Explicitly set eval_metric if you'd like to restore the old behavior.\n",
      "[16:45:30] WARNING: C:/Users/Administrator/workspace/xgboost-win64_release_1.3.0/src/learner.cc:1061: Starting in XGBoost 1.3.0, the default evaluation metric used with the objective 'multi:softprob' was changed from 'merror' to 'mlogloss'. Explicitly set eval_metric if you'd like to restore the old behavior.\n",
      "[16:45:32] WARNING: C:/Users/Administrator/workspace/xgboost-win64_release_1.3.0/src/learner.cc:1061: Starting in XGBoost 1.3.0, the default evaluation metric used with the objective 'multi:softprob' was changed from 'merror' to 'mlogloss'. Explicitly set eval_metric if you'd like to restore the old behavior.\n",
      "[16:45:34] WARNING: C:/Users/Administrator/workspace/xgboost-win64_release_1.3.0/src/learner.cc:1061: Starting in XGBoost 1.3.0, the default evaluation metric used with the objective 'multi:softprob' was changed from 'merror' to 'mlogloss'. Explicitly set eval_metric if you'd like to restore the old behavior.\n",
      "[16:45:36] WARNING: C:/Users/Administrator/workspace/xgboost-win64_release_1.3.0/src/learner.cc:1061: Starting in XGBoost 1.3.0, the default evaluation metric used with the objective 'multi:softprob' was changed from 'merror' to 'mlogloss'. Explicitly set eval_metric if you'd like to restore the old behavior.\n",
      "[16:45:37] WARNING: C:/Users/Administrator/workspace/xgboost-win64_release_1.3.0/src/learner.cc:1061: Starting in XGBoost 1.3.0, the default evaluation metric used with the objective 'multi:softprob' was changed from 'merror' to 'mlogloss'. Explicitly set eval_metric if you'd like to restore the old behavior.\n",
      "[16:45:39] WARNING: C:/Users/Administrator/workspace/xgboost-win64_release_1.3.0/src/learner.cc:1061: Starting in XGBoost 1.3.0, the default evaluation metric used with the objective 'multi:softprob' was changed from 'merror' to 'mlogloss'. Explicitly set eval_metric if you'd like to restore the old behavior.\n",
      "[16:45:40] WARNING: C:/Users/Administrator/workspace/xgboost-win64_release_1.3.0/src/learner.cc:1061: Starting in XGBoost 1.3.0, the default evaluation metric used with the objective 'multi:softprob' was changed from 'merror' to 'mlogloss'. Explicitly set eval_metric if you'd like to restore the old behavior.\n",
      "[16:45:42] WARNING: C:/Users/Administrator/workspace/xgboost-win64_release_1.3.0/src/learner.cc:1061: Starting in XGBoost 1.3.0, the default evaluation metric used with the objective 'multi:softprob' was changed from 'merror' to 'mlogloss'. Explicitly set eval_metric if you'd like to restore the old behavior.\n",
      "[16:45:44] WARNING: C:/Users/Administrator/workspace/xgboost-win64_release_1.3.0/src/learner.cc:1061: Starting in XGBoost 1.3.0, the default evaluation metric used with the objective 'multi:softprob' was changed from 'merror' to 'mlogloss'. Explicitly set eval_metric if you'd like to restore the old behavior.\n",
      "[16:45:46] WARNING: C:/Users/Administrator/workspace/xgboost-win64_release_1.3.0/src/learner.cc:1061: Starting in XGBoost 1.3.0, the default evaluation metric used with the objective 'multi:softprob' was changed from 'merror' to 'mlogloss'. Explicitly set eval_metric if you'd like to restore the old behavior.\n",
      "[16:45:47] WARNING: C:/Users/Administrator/workspace/xgboost-win64_release_1.3.0/src/learner.cc:1061: Starting in XGBoost 1.3.0, the default evaluation metric used with the objective 'multi:softprob' was changed from 'merror' to 'mlogloss'. Explicitly set eval_metric if you'd like to restore the old behavior.\n",
      "[16:45:49] WARNING: C:/Users/Administrator/workspace/xgboost-win64_release_1.3.0/src/learner.cc:1061: Starting in XGBoost 1.3.0, the default evaluation metric used with the objective 'multi:softprob' was changed from 'merror' to 'mlogloss'. Explicitly set eval_metric if you'd like to restore the old behavior.\n",
      "[16:45:51] WARNING: C:/Users/Administrator/workspace/xgboost-win64_release_1.3.0/src/learner.cc:1061: Starting in XGBoost 1.3.0, the default evaluation metric used with the objective 'multi:softprob' was changed from 'merror' to 'mlogloss'. Explicitly set eval_metric if you'd like to restore the old behavior.\n",
      "[16:45:53] WARNING: C:/Users/Administrator/workspace/xgboost-win64_release_1.3.0/src/learner.cc:1061: Starting in XGBoost 1.3.0, the default evaluation metric used with the objective 'multi:softprob' was changed from 'merror' to 'mlogloss'. Explicitly set eval_metric if you'd like to restore the old behavior.\n",
      "[16:45:54] WARNING: C:/Users/Administrator/workspace/xgboost-win64_release_1.3.0/src/learner.cc:1061: Starting in XGBoost 1.3.0, the default evaluation metric used with the objective 'multi:softprob' was changed from 'merror' to 'mlogloss'. Explicitly set eval_metric if you'd like to restore the old behavior.\n",
      "[16:45:56] WARNING: C:/Users/Administrator/workspace/xgboost-win64_release_1.3.0/src/learner.cc:1061: Starting in XGBoost 1.3.0, the default evaluation metric used with the objective 'multi:softprob' was changed from 'merror' to 'mlogloss'. Explicitly set eval_metric if you'd like to restore the old behavior.\n"
     ]
    },
    {
     "data": {
      "text/plain": [
       "RandomizedSearchCV(cv=5, error_score=nan,\n",
       "                   estimator=XGBClassifier(base_score=None, booster=None,\n",
       "                                           colsample_bylevel=None,\n",
       "                                           colsample_bynode=None,\n",
       "                                           colsample_bytree=None, gamma=None,\n",
       "                                           gpu_id=None, importance_type='gain',\n",
       "                                           interaction_constraints=None,\n",
       "                                           learning_rate=None,\n",
       "                                           max_delta_step=None, max_depth=None,\n",
       "                                           min_child_weight=None, missing=nan,\n",
       "                                           monotone_constraints=None,\n",
       "                                           n...\n",
       "                   param_distributions={'learning_rate': [0.05, 0.1, 0.25, 0.5,\n",
       "                                                          0.75, 1],\n",
       "                                        'max_depth': array([2, 3, 4, 5]),\n",
       "                                        'n_estimators': array([ 1,  2,  3,  4,  5,  6,  7,  8,  9, 10, 11, 12, 13, 14, 15, 16, 17,\n",
       "       18, 19, 20, 21, 22, 23, 24, 25, 26, 27, 28, 29, 30, 31, 32, 33, 34,\n",
       "       35, 36, 37, 38, 39, 40, 41, 42, 43, 44, 45, 46, 47, 48, 49])},\n",
       "                   pre_dispatch='2*n_jobs', random_state=None, refit=True,\n",
       "                   return_train_score=False, scoring=None, verbose=0)"
      ]
     },
     "execution_count": 26,
     "metadata": {},
     "output_type": "execute_result"
    }
   ],
   "source": [
    "param_grid = {'n_estimators':np.arange(1,50),\n",
    "              'learning_rate':[0.05, 0.1, 0.25, 0.5, 0.75, 1],\n",
    "              'max_depth':np.arange(2,6)}\n",
    "xgb = XGBClassifier()\n",
    "xgb_cv= RandomizedSearchCV(xgb,param_grid,cv=5)\n",
    "xgb_cv.fit(X_train, y_train)"
   ]
  },
  {
   "cell_type": "code",
   "execution_count": 28,
   "metadata": {},
   "outputs": [
    {
     "name": "stdout",
     "output_type": "stream",
     "text": [
      "Best Score:0.7204761904761905\n",
      "Best Parameters: {'n_estimators': 45, 'max_depth': 5, 'learning_rate': 1}\n"
     ]
    }
   ],
   "source": [
    "print(\"Best Score:\" + str(xgb_cv.best_score_))\n",
    "print(\"Best Parameters: \" + str(xgb_cv.best_params_))"
   ]
  },
  {
   "cell_type": "markdown",
   "metadata": {},
   "source": [
    "Testing"
   ]
  },
  {
   "cell_type": "code",
   "execution_count": 29,
   "metadata": {},
   "outputs": [
    {
     "name": "stdout",
     "output_type": "stream",
     "text": [
      "[16:47:12] WARNING: C:/Users/Administrator/workspace/xgboost-win64_release_1.3.0/src/learner.cc:1061: Starting in XGBoost 1.3.0, the default evaluation metric used with the objective 'multi:softprob' was changed from 'merror' to 'mlogloss'. Explicitly set eval_metric if you'd like to restore the old behavior.\n",
      "              precision    recall  f1-score   support\n",
      "\n",
      "   classical       0.94      0.93      0.94       176\n",
      "     country       0.61      0.63      0.62       178\n",
      "         edm       0.82      0.79      0.80       160\n",
      "       indie       0.59      0.52      0.55       205\n",
      "        jazz       0.83      0.89      0.86       170\n",
      "       latin       0.72      0.66      0.69       160\n",
      "       metal       0.65      0.76      0.70       169\n",
      "         pop       0.45      0.48      0.47       167\n",
      "         r&b       0.62      0.67      0.65       166\n",
      "         rap       0.82      0.70      0.75       171\n",
      "      reggae       0.70      0.74      0.72       187\n",
      "        rock       0.64      0.61      0.63       191\n",
      "\n",
      "    accuracy                           0.69      2100\n",
      "   macro avg       0.70      0.70      0.70      2100\n",
      "weighted avg       0.70      0.69      0.69      2100\n",
      "\n"
     ]
    }
   ],
   "source": [
    "xgb = XGBClassifier(n_estimators=45, learning_rate=1, max_depth=5)\n",
    "xgb.fit(X_train, y_train)\n",
    "y_pred = xgb.predict(X_test)\n",
    "print(classification_report(y_test, y_pred))"
   ]
  },
  {
   "cell_type": "code",
   "execution_count": 30,
   "metadata": {},
   "outputs": [
    {
     "name": "stdout",
     "output_type": "stream",
     "text": [
      "[16:47:43] WARNING: C:/Users/Administrator/workspace/xgboost-win64_release_1.3.0/src/learner.cc:1061: Starting in XGBoost 1.3.0, the default evaluation metric used with the objective 'multi:softprob' was changed from 'merror' to 'mlogloss'. Explicitly set eval_metric if you'd like to restore the old behavior.\n",
      "              precision    recall  f1-score   support\n",
      "\n",
      "   classical       0.96      0.97      0.96       176\n",
      "     country       0.65      0.64      0.65       178\n",
      "         edm       0.84      0.85      0.84       160\n",
      "       indie       0.62      0.55      0.58       205\n",
      "        jazz       0.85      0.91      0.88       170\n",
      "       latin       0.79      0.70      0.74       160\n",
      "       metal       0.69      0.78      0.73       169\n",
      "         pop       0.52      0.53      0.53       167\n",
      "         r&b       0.66      0.70      0.68       166\n",
      "         rap       0.82      0.71      0.76       171\n",
      "      reggae       0.71      0.76      0.74       187\n",
      "        rock       0.65      0.66      0.66       191\n",
      "\n",
      "    accuracy                           0.73      2100\n",
      "   macro avg       0.73      0.73      0.73      2100\n",
      "weighted avg       0.73      0.73      0.73      2100\n",
      "\n"
     ]
    }
   ],
   "source": [
    "xgb = XGBClassifier()\n",
    "xgb.fit(X_train, y_train)\n",
    "y_pred = xgb.predict(X_test)\n",
    "print(classification_report(y_test, y_pred))"
   ]
  },
  {
   "cell_type": "markdown",
   "metadata": {},
   "source": [
    "Performance"
   ]
  },
  {
   "cell_type": "code",
   "execution_count": 35,
   "metadata": {},
   "outputs": [
    {
     "data": {
      "text/plain": [
       "<AxesSubplot:>"
      ]
     },
     "execution_count": 35,
     "metadata": {},
     "output_type": "execute_result"
    },
    {
     "data": {
      "image/png": "[encoded data removed]",
      "text/plain": [
       "<Figure size 432x288 with 2 Axes>"
      ]
     },
     "metadata": {
      "needs_background": "light"
     },
     "output_type": "display_data"
    }
   ],
   "source": [
    "cm = confusion_matrix(y_test, y_pred)\n",
    "sns.heatmap(cm, annot=True, xticklabels=genres, yticklabels=genres)"
   ]
  },
  {
   "cell_type": "markdown",
   "metadata": {},
   "source": [
    "### Conclusion<a id='Conclusion'></a>"
   ]
  },
  {
   "cell_type": "markdown",
   "metadata": {},
   "source": []
  }
 ],
 "metadata": {
  "kernelspec": {
   "display_name": "Python 3",
   "language": "python",
   "name": "python3"
  },
  "language_info": {
   "codemirror_mode": {
    "name": "ipython",
    "version": 3
   },
   "file_extension": ".py",
   "mimetype": "text/x-python",
   "name": "python",
   "nbconvert_exporter": "python",
   "pygments_lexer": "ipython3",
   "version": "3.7.6"
  }
 },
 "nbformat": 4,
 "nbformat_minor": 4
}
